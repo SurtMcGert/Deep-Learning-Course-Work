{
 "cells": [
  {
   "cell_type": "markdown",
   "metadata": {},
   "source": [
    "# Dataset Download"
   ]
  },
  {
   "cell_type": "code",
   "execution_count": 1,
   "metadata": {},
   "outputs": [],
   "source": [
    "import pandas as pd\n",
    "import os\n",
    "import opendatasets as od"
   ]
  },
  {
   "cell_type": "markdown",
   "metadata": {},
   "source": [
    "NOTE: you will need a kaggle API key for the following to work"
   ]
  },
  {
   "cell_type": "code",
   "execution_count": 4,
   "metadata": {},
   "outputs": [],
   "source": [
    "import json\n",
    "\n",
    "# Path to your JSON file\n",
    "json_file_path = \"kaggle.json\"\n",
    "\n",
    "# Open the file and read the content\n",
    "try:\n",
    "  with open(json_file_path, \"r\") as f:\n",
    "    json_data = json.load(f)\n",
    "except FileNotFoundError:\n",
    "  print(f\"Error: JSON file not found at {json_file_path}\")\n",
    "  exit(1)\n",
    "\n",
    "# Access username and key from the JSON data\n",
    "try:\n",
    "  username = json_data[\"username\"]\n",
    "  key = json_data[\"key\"]\n",
    "except KeyError:\n",
    "  print(\"Error: 'username' or 'key' key not found in JSON data\")\n",
    "  exit(1)"
   ]
  },
  {
   "cell_type": "code",
   "execution_count": 6,
   "metadata": {},
   "outputs": [
    {
     "name": "stdout",
     "output_type": "stream",
     "text": [
      "Downloading diagnoise-me.zip to dataset\\diagnoise-me\n"
     ]
    },
    {
     "name": "stderr",
     "output_type": "stream",
     "text": [
      "100%|██████████| 191M/191M [00:41<00:00, 4.82MB/s] \n"
     ]
    },
    {
     "name": "stdout",
     "output_type": "stream",
     "text": [
      "\n"
     ]
    }
   ],
   "source": [
    "os.environ['KAGGLE_USERNAME'] = username\n",
    "os.environ['KAGGLE_KEY'] = key\n",
    "\n",
    "# Assign the Kaggle data set URL into variable\n",
    "dataset = 'https://www.kaggle.com/datasets/dsxavier/diagnoise-me'\n",
    "# Using opendatasets let's download the data sets\n",
    "od.download(dataset, \"dataset\")"
   ]
  }
 ],
 "metadata": {
  "kernelspec": {
   "display_name": "Python 3",
   "language": "python",
   "name": "python3"
  },
  "language_info": {
   "codemirror_mode": {
    "name": "ipython",
    "version": 3
   },
   "file_extension": ".py",
   "mimetype": "text/x-python",
   "name": "python",
   "nbconvert_exporter": "python",
   "pygments_lexer": "ipython3",
   "version": "3.10.11"
  }
 },
 "nbformat": 4,
 "nbformat_minor": 2
}
