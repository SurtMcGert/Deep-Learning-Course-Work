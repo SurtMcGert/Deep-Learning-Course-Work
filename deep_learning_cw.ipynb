{
 "cells": [
  {
   "cell_type": "markdown",
   "metadata": {},
   "source": [
    "# Imports"
   ]
  },
  {
   "cell_type": "code",
   "execution_count": 8,
   "metadata": {},
   "outputs": [],
   "source": [
    "import pandas as pd \n",
    "import torch\n",
    "from torch.utils.data import Dataset, random_split\n",
    "from typing import List, Dict, Union\n",
    "from typing import Any, TypeVar\n",
    "import pandas as pd\n",
    "import os\n",
    "import opendatasets as od\n",
    "\n",
    "from transformers import AutoTokenizer, TrainingArguments \n",
    "from transformers import Trainer, AutoModelForCausalLM, IntervalStrategy"
   ]
  },
  {
   "cell_type": "markdown",
   "metadata": {},
   "source": [
    "set a seed"
   ]
  },
  {
   "cell_type": "code",
   "execution_count": 9,
   "metadata": {},
   "outputs": [
    {
     "data": {
      "text/plain": [
       "<torch._C.Generator at 0x1ed3b8b1e10>"
      ]
     },
     "execution_count": 9,
     "metadata": {},
     "output_type": "execute_result"
    }
   ],
   "source": [
    "torch.manual_seed(2137)"
   ]
  },
  {
   "cell_type": "markdown",
   "metadata": {},
   "source": [
    "# Dataset Download"
   ]
  },
  {
   "cell_type": "markdown",
   "metadata": {},
   "source": [
    "NOTE: you will need a kaggle API key for the following to work"
   ]
  },
  {
   "cell_type": "code",
   "execution_count": 4,
   "metadata": {},
   "outputs": [],
   "source": [
    "import json\n",
    "\n",
    "# Path to your JSON file\n",
    "json_file_path = \"kaggle.json\"\n",
    "\n",
    "# Open the file and read the content\n",
    "try:\n",
    "  with open(json_file_path, \"r\") as f:\n",
    "    json_data = json.load(f)\n",
    "except FileNotFoundError:\n",
    "  print(f\"Error: JSON file not found at {json_file_path}\")\n",
    "  exit(1)\n",
    "\n",
    "# Access username and key from the JSON data\n",
    "try:\n",
    "  username = json_data[\"username\"]\n",
    "  key = json_data[\"key\"]\n",
    "except KeyError:\n",
    "  print(\"Error: 'username' or 'key' key not found in JSON data\")\n",
    "  exit(1)"
   ]
  },
  {
   "cell_type": "code",
   "execution_count": 6,
   "metadata": {},
   "outputs": [
    {
     "name": "stdout",
     "output_type": "stream",
     "text": [
      "Downloading diagnoise-me.zip to dataset\\diagnoise-me\n"
     ]
    },
    {
     "name": "stderr",
     "output_type": "stream",
     "text": [
      "100%|██████████| 191M/191M [00:41<00:00, 4.82MB/s] \n"
     ]
    },
    {
     "name": "stdout",
     "output_type": "stream",
     "text": [
      "\n"
     ]
    }
   ],
   "source": [
    "os.environ['KAGGLE_USERNAME'] = username\n",
    "os.environ['KAGGLE_KEY'] = key\n",
    "\n",
    "# Assign the Kaggle data set URL into variable\n",
    "dataset = 'https://www.kaggle.com/datasets/dsxavier/diagnoise-me'\n",
    "# Using opendatasets let's download the data sets\n",
    "od.download(dataset, \"dataset\")"
   ]
  },
  {
   "cell_type": "markdown",
   "metadata": {},
   "source": [
    "# Load Dataset"
   ]
  },
  {
   "cell_type": "code",
   "execution_count": 12,
   "metadata": {},
   "outputs": [],
   "source": [
    "DATA_PATH = \"dataset\\\\diagnoise-me\\\\diagnose_en_dataset.feather\"\n",
    "data = pd.read_feather(DATA_PATH)\n",
    "data = data['Patient'].values\n",
    "\n",
    "SEQ_LEN: int = 1024\n",
    "SAMPLE_SIZE: int =  int(data.shape[0] * 0.01) #Just get only .01 fraction of els\n",
    "_data = [el[:SEQ_LEN]  for el in data[:SAMPLE_SIZE]]"
   ]
  },
  {
   "cell_type": "code",
   "execution_count": 13,
   "metadata": {},
   "outputs": [
    {
     "name": "stdout",
     "output_type": "stream",
     "text": [
      "['Hi doctor,I am just wondering what is abutting and abutment of the nerve root means in a back issue. Please explain. What treatment is required for\\xa0annular bulging and tear?'\n",
      " 'Hi doctor, I am a 26 year old male. I am 5 feet and 9 inches tall and weigh 255 pounds. When I eat spicy\\xa0food, I poop blood. Sometimes when I have constipation as well, I poop a little bit of blood. I am really scared that I have colon cancer. I do have diarrhea often. I\\xa0do not have a\\xa0family history of colon\\xa0cancer. I got blood tests done last night. Please find my reports attached.'\n",
      " 'Hello doctor, I am 48 years old. I am experiencing weak erection and difficulty in sustaining the same. This condition was observed 10 years back. Also, there is premature ejaculation. Other physical ailments that I have are, I am suffering from hypertension and taking Amlopres-L (Amlodipine and Lisinopril) for the last 10 years, high cholesterol and triglycerides. My cholesterol level is 225 and triglyceride is 200 for the last 12 years. I used to do frequent masturbation in early age.\\xa0I do have erection during morning hours many times, particularly after sound sleep or if I had long walk previous day. I am having Sildenafil 25 mg or 5 mg Cialis, which is effective enough. But, I wish to get rid of tablet support and live natural way.\\xa0I consulted urologist today and he prescribed me Nano-Leo capsules and Modula 5 mg for 10 days.\\xa0I wish to have your second opinion on this. Please guide.'\n",
      " ...\n",
      " 'taking the mini pill Cerazette and missed taking it twice last month, I take this pill last thing at night and when \\\\i missed taking it I took it first thing the next morning. i m 45 and really really don t want to fall pregant, how high are the risks that I could get caught out I did however have a light period at the end of last month and have all the symptons of taking another one. thanks alison'\n",
      " 'Hi I recently received the depo-provera shot on October 9th. By the 12th I started feeling tired and now I can t even go to school with out feeling sick and very very tired. I used to workout (run and strength train) at least 4 times a week and now I can t even get through a 20 minute run which used to be a breeze. My resting heart rate was 72 and is now 87-95. I feel depressed and I m very put of breath and have flu like body aches. I sleep on a heating pad every night because of back pain that started last week. I m 18 years old, 5 6 , 126 lbs and I have low protein s (why I got the depo vs. the pill). I received the shot in my right buttocks . I called my nurse who administered the shot and she told me no one has ever felt like this, which I know is a lie because looking online and talking to friends who got the shot told me they felt the same way. Is this from the shot or could it be something else (mono, the nurse suggested) thank you!!'\n",
      " 'i had unprotected sex on 20th sep, n after 5hrs i took unwanted 72 bt up till now ie.9hrs after taking that pill my body did not show any kind of effect, no pain no vomiting , noting..nw m not sure that i took medicine or it splits out from my mouth at that tym..do i need to be worried or should i take the another pill? and one more thing doctor, i have no card from which i can pay ur fees :(.. is it necessary to pay or u can answer me like that... please let me know this']\n"
     ]
    }
   ],
   "source": [
    "print(data)"
   ]
  }
 ],
 "metadata": {
  "kernelspec": {
   "display_name": "Python 3",
   "language": "python",
   "name": "python3"
  },
  "language_info": {
   "codemirror_mode": {
    "name": "ipython",
    "version": 3
   },
   "file_extension": ".py",
   "mimetype": "text/x-python",
   "name": "python",
   "nbconvert_exporter": "python",
   "pygments_lexer": "ipython3",
   "version": "3.10.11"
  }
 },
 "nbformat": 4,
 "nbformat_minor": 2
}
